{
 "cells": [
  {
   "cell_type": "markdown",
   "metadata": {},
   "source": [
    "#  Image Visualization Basics with Astropy\n",
    "ds9 is a really powerful tool for working with astronomical images, but for deep analyses and making figures for publication and presentation, we often want to be able to work with images in Python."
   ]
  },
  {
   "cell_type": "code",
   "execution_count": 11,
   "metadata": {},
   "outputs": [],
   "source": [
    "# Imports\n",
    "import numpy as np\n",
    "\n",
    "from astropy.io import fits\n",
    "import astropy.visualization as vis\n",
    "from astropy.wcs import WCS # World Coordinate System handling\n",
    "\n",
    "# Plotting\n",
    "import matplotlib.pyplot as plt\n",
    "\n",
    "# Magically make plots appear in the notebook\n",
    "%matplotlib inline\n",
    "\n",
    "# Change this to point to the directory containing the M83 data products\n",
    "# for today's examples, if you didn't download and unzip them in this directory.\n",
    "data_path = 'M83/'"
   ]
  },
  {
   "cell_type": "markdown",
   "metadata": {},
   "source": [
    "## Image I/O and Metadata\n",
    "Images are binary files by their nature. We normally distribute them in the `.fits` format. We'll use the `astropy.io.fits` interface to load them here."
   ]
  },
  {
   "cell_type": "code",
   "execution_count": 2,
   "metadata": {},
   "outputs": [],
   "source": [
    "# These are HDULists once again.\n",
    "M83_05_2_hdul = fits.open(data_path + 'NGC5236-0p5to2-asca-merged-im-bin1.fits')\n",
    "M83_2_7_hdul = fits.open(data_path + 'NGC5236-2to7-asca-merged-im-bin1.fits')"
   ]
  },
  {
   "cell_type": "markdown",
   "metadata": {},
   "source": [
    "For these HDULists (and most monochromatic images), the image is the first entry:"
   ]
  },
  {
   "cell_type": "code",
   "execution_count": 3,
   "metadata": {},
   "outputs": [
    {
     "data": {
      "text/plain": [
       "[<astropy.io.fits.hdu.image.PrimaryHDU object at 0x7faea82f34a8>, <astropy.io.fits.hdu.table.BinTableHDU object at 0x7faeabd2deb8>, <astropy.io.fits.hdu.table.BinTableHDU object at 0x7faeabd37a20>, <astropy.io.fits.hdu.table.BinTableHDU object at 0x7faeabd3c550>, <astropy.io.fits.hdu.table.BinTableHDU object at 0x7faeabd37898>, <astropy.io.fits.hdu.table.BinTableHDU object at 0x7faeabd2dda0>, <astropy.io.fits.hdu.table.BinTableHDU object at 0x7faeabd410f0>, <astropy.io.fits.hdu.table.BinTableHDU object at 0x7faeabd41be0>]"
      ]
     },
     "execution_count": 3,
     "metadata": {},
     "output_type": "execute_result"
    }
   ],
   "source": [
    "M83_05_2_hdul"
   ]
  },
  {
   "cell_type": "markdown",
   "metadata": {},
   "source": [
    "In this specific case, most of the other extensions are GTI (good time interval) tables from the individual observations co-added to make the final image. We'll put the headers and images into variables for later reference, and display the top of the header for the SB image."
   ]
  },
  {
   "cell_type": "code",
   "execution_count": 5,
   "metadata": {},
   "outputs": [
    {
     "data": {
      "text/plain": [
       "SIMPLE  =                    T / file does conform to FITS standard             \n",
       "BITPIX  =                   16 / number of bits per data pixel                  \n",
       "NAXIS   =                    2 / number of data axes                            \n",
       "NAXIS1  =                 2000 / length of data axis                            \n",
       "NAXIS2  =                 2000 / length of data axis                            \n",
       "EXTEND  =                    T / FITS dataset may contain extensions            \n",
       "COMMENT   FITS (Flexible Image Transport System) format is defined in 'Astronomy\n",
       "COMMENT   and Astrophysics', volume 376, page 359; bibcode: 2001A&A...376..359H \n",
       "HDUNAME = 'EVENTS_IMAGE'       / ASCDM block name                               "
      ]
     },
     "execution_count": 5,
     "metadata": {},
     "output_type": "execute_result"
    }
   ],
   "source": [
    "M83_05_2_hdr = M83_05_2_hdul[0].header\n",
    "M83_05_2_img = M83_05_2_hdul[0].data\n",
    "\n",
    "M83_2_7_hdr = M83_2_7_hdul[0].header\n",
    "M83_2_7_img = M83_2_7_hdul[0].data\n",
    "\n",
    "M83_05_2_hdr[:9]"
   ]
  },
  {
   "cell_type": "markdown",
   "metadata": {},
   "source": [
    "The `NAXIS` keywords here tell us that the image is 2D, and that it has 2000 columns and 2000 rows. The `BITPIX` keyword also tells us that each pixel is a 16 bit number; in this case an integer.\n",
    "\n",
    "There's a ton of other information in the header, but unfortunately a lot of the automated pipelines used to make co-added images from many observations make headers basically illegible. Fortunately, they're still machine-readable. What we need to extract is the information describing the World Coordinate System (WCS), the transformation between pixel coordinates (x,y) and sky coordinates (RA, Dec). This consists, basically, of the sky coordinates of a specific reference pixel, and the Jacobian matrix describing how the sky coordinates vary with x and y.\n",
    "\n",
    "Astropy contains a class, `astropy.wcs.WCS` that holds all this information and can pull the required information out of the header, which will work in most situations, as long as the images were created according to the WCS standards:"
   ]
  },
  {
   "cell_type": "code",
   "execution_count": 16,
   "metadata": {},
   "outputs": [],
   "source": [
    "wcs_05_2 = WCS(M83_05_2_hdr)\n",
    "wcs_2_7 = WCS(M83_2_7_hdr)"
   ]
  },
  {
   "cell_type": "markdown",
   "metadata": {},
   "source": [
    "Let's look at what's in here, for the 0.5-2.0 keV image (the WCS information for both images is actually the same, note that this is not guaranteed nor should it be expected when dealing with, for example images of the same object from different instruments)."
   ]
  },
  {
   "cell_type": "code",
   "execution_count": 17,
   "metadata": {},
   "outputs": [
    {
     "data": {
      "text/plain": [
       "WCS Keywords\n",
       "\n",
       "Number of WCS axes: 2\n",
       "CTYPE : 'RA---TAN'  'DEC--TAN'  \n",
       "CRVAL : 204.262507971  -29.8552317409  \n",
       "CRPIX : 929.0  1092.0  \n",
       "PC1_1 PC1_2  : 1.0  0.0  \n",
       "PC2_1 PC2_2  : 0.0  1.0  \n",
       "CDELT : -0.00013666666666667  0.00013666666666667  \n",
       "NAXIS : 2000  2000"
      ]
     },
     "execution_count": 17,
     "metadata": {},
     "output_type": "execute_result"
    }
   ],
   "source": [
    "wcs_05_2"
   ]
  },
  {
   "cell_type": "markdown",
   "metadata": {},
   "source": [
    "The number of WCS axes is 2, as we might expect; the next line tells us that these axes are RA and Dec, also as we might expect. The next two lines, `CRVAL` and `CRPIX` tell us the sky coordinates and pixel coordinates of the reference pixel. The lines starting with `PC` give us the correlation matrix of the pixel and sky coordinates. It's diagonal, so that tells us that the image has already been reprojected such that x corresponds to right ascension (East-West) and y corresponds to declination (North-South). This is nice, but again not guaranteed. The last bit of new information here is `CDELT`: it's telling us how many degrees of RA and Dec correspond to moving 1 pixel in x and y. Here, 1 pixel left is a $0.0001367^\\circ$ ($0.492''$) *increase* in RA, while 1 pixel up increases the declination by the same value. This is the pixel scale (occasionally called plate scale) of the image."
   ]
  },
  {
   "cell_type": "markdown",
   "metadata": {},
   "source": [
    "## Displaying images\n",
    "Pyplot has a builtin tool for displaying images, but the default settings aren't great for our purposes most of the time:"
   ]
  },
  {
   "cell_type": "code",
   "execution_count": 19,
   "metadata": {},
   "outputs": [
    {
     "data": {
      "text/plain": [
       "<matplotlib.image.AxesImage at 0x7faeabfaf7f0>"
      ]
     },
     "execution_count": 19,
     "metadata": {},
     "output_type": "execute_result"
    },
    {
     "data": {
      "image/png": "[encoded data removed]",
      "text/plain": [
       "<Figure size 432x288 with 1 Axes>"
      ]
     },
     "metadata": {
      "needs_background": "light"
     },
     "output_type": "display_data"
    }
   ],
   "source": [
    "fig, ax = plt.subplots()\n",
    "\n",
    "ax.imshow(M83_05_2_img)"
   ]
  },
  {
   "cell_type": "markdown",
   "metadata": {},
   "source": [
    "That's ... not very informative. The primary issues here are normalization and contrast. To display an image, matplotlib must map the data units to brightness values from 0 to 1. By default, it does this by mapping the lowest value is mapped to 0, the brightest value to 1, and assuming a linear scale in brightness between. This will work in some cases, but in a lot of astronomical images we have a ton of contrast, so we end up needing to change this mapping to emphasize faint features in the image. In this particular image we're looking at some soft X-ray emission from the ISM in M87, so we'll want to get this right in order to see that faint, extended emission."
   ]
  },
  {
   "cell_type": "markdown",
   "metadata": {},
   "source": [
    "Astropy has a way to do this pretty easily, with the `astropy.visualization.simple_norm()` function. We can think of this function as automating two steps for us:\n",
    "1. \"Clipping\" the range or scale of the data, by discarding some values that are higher than or lower than a prescribed value\n",
    "2. \"Stretching\" the clipped data by defining the function used to map it to [0,1]\n",
    "\n",
    "Let's try using it a few different ways:"
   ]
  },
  {
   "cell_type": "code",
   "execution_count": 28,
   "metadata": {},
   "outputs": [
    {
     "data": {
      "text/plain": [
       "Text(0.5, 1.0, 'sqrt stretch, 99% scale')"
      ]
     },
     "execution_count": 28,
     "metadata": {},
     "output_type": "execute_result"
    },
    {
     "data": {
      "image/png": "[encoded data removed]",
      "text/plain": [
       "<Figure size 864x288 with 3 Axes>"
      ]
     },
     "metadata": {
      "needs_background": "light"
     },
     "output_type": "display_data"
    }
   ],
   "source": [
    "fig, axs = plt.subplots(1,3, figsize=(12,4))\n",
    "\n",
    "norm1 = vis.simple_norm(M83_05_2_img, stretch='linear') # This is the same as before\n",
    "norm2 = vis.simple_norm(M83_05_2_img, percent=99.0, stretch='linear')\n",
    "norm3 = vis.simple_norm(M83_05_2_img, percent=99.0, stretch='sqrt')\n",
    "\n",
    "# Before the image was using a purple-yellow color map that's the matplotlib default;\n",
    "# here I'm switching to grayscale.\n",
    "# Also, note that before the \"origin\" (0,0) point of the image was in the top left; that's\n",
    "# conventional for most computer graphics but not astronomical images. We can change to what we\n",
    "# expect by setting `origin='lower'` in the imshow command:\n",
    "\n",
    "\n",
    "axs[0].imshow(M83_05_2_img, norm=norm1, cmap='gray', origin='lower')\n",
    "axs[1].imshow(M83_05_2_img, norm=norm2, cmap='gray', origin='lower')\n",
    "axs[2].imshow(M83_05_2_img, norm=norm3, cmap='gray', origin='lower')\n",
    "\n",
    "axs[0].set_title('linear stretch, 100% scale')\n",
    "axs[1].set_title('linear stretch, 99% scale')\n",
    "axs[2].set_title('sqrt stretch, 99% scale')"
   ]
  },
  {
   "cell_type": "markdown",
   "metadata": {},
   "source": [
    "The \"percent\" command that I'm using above is one way of defining the max and min (1 and 0) brightness of the resulting image: imagine histogramming the pixel values and setting the minimum brightness to the 0.5th percentile and the maximum to the 99.5th, so that you have 99% of the pixel values inside that range.\n",
    "\n",
    "We can also define our maximum and minimum brightness manually:"
   ]
  },
  {
   "cell_type": "code",
   "execution_count": 38,
   "metadata": {},
   "outputs": [
    {
     "data": {
      "text/plain": [
       "<matplotlib.image.AxesImage at 0x7fae9927ce80>"
      ]
     },
     "execution_count": 38,
     "metadata": {},
     "output_type": "execute_result"
    },
    {
     "data": {
      "image/png": "[encoded data removed]",
      "text/plain": [
       "<Figure size 288x288 with 1 Axes>"
      ]
     },
     "metadata": {
      "needs_background": "light"
     },
     "output_type": "display_data"
    }
   ],
   "source": [
    "fig, ax = plt.subplots(figsize=(4,4))\n",
    "\n",
    "# Anything above 7 counts is set to max brightness, and the final brightness is\n",
    "# proportional to the square root of the pixel value\n",
    "norm = vis.simple_norm(M83_05_2_img, stretch='sqrt', min_cut=0, max_cut=7)\n",
    "\n",
    "ax.imshow(M83_05_2_img, norm=norm, cmap='gray', origin='lower')"
   ]
  },
  {
   "cell_type": "markdown",
   "metadata": {},
   "source": [
    "Different scales and stretches work better for different kinds of images; often if you need to put an image in a figure it's a good idea to play around with an image in ds9 first to find out what sort of scale looks good. Often, we might also want to smooth the image before displaying it, especially if the goal is to emphasize extended emission. But, that's a whole thing, and we might cover it later if necessary."
   ]
  },
  {
   "cell_type": "markdown",
   "metadata": {},
   "source": [
    "### Displaying images with WCS projection\n",
    "From the tick marks on the plots above you might have noticed that matplotlib is displaying the pixel coordinates of the images. A lot of the time if you're just working with an image this is OK, but often, and especially if you're making a figure for a paper you might want the axes to correspond to the sky coordinates. This is also relatively simple to do, and in fact we've already done all the necessary work, when we created WCS objects for our images up above. We need to define our axes in a different way, but the trick is to set the \"projection\" keyword when do so:"
   ]
  },
  {
   "cell_type": "code",
   "execution_count": 57,
   "metadata": {},
   "outputs": [
    {
     "data": {
      "text/plain": [
       "<matplotlib.collections.PathCollection at 0x7fae7d253320>"
      ]
     },
     "execution_count": 57,
     "metadata": {},
     "output_type": "execute_result"
    },
    {
     "data": {
      "image/png": "[encoded data removed]",
      "text/plain": [
       "<Figure size 432x288 with 1 Axes>"
      ]
     },
     "metadata": {
      "needs_background": "light"
     },
     "output_type": "display_data"
    }
   ],
   "source": [
    "# My habit is normally to use plt.subplots() to define the figure and the axes together,\n",
    "# but the astropy WCS Axes interface doesn't like that. It's easy to work around though;\n",
    "# see the link in 'further reading' for a couple of other, equivalent ways of doing it.\n",
    "fig = plt.figure()\n",
    "ax = fig.add_subplot(projection=wcs_05_2)\n",
    "\n",
    "norm = vis.simple_norm(M83_05_2_img, stretch='sqrt', min_cut=0, max_cut=7)\n",
    "\n",
    "ax.imshow(M83_05_2_img, norm=norm, cmap='gray', origin='lower')\n",
    "\n",
    "# We can now also overplot things in world coordinates using the 'transform' keyword of the base\n",
    "# matplotlib plotting functions. The method ax.get_transform('world') returns a function that converts\n",
    "# pixel to world coordinates, which we then pass as the 'transform' keyword. Annoyingly, the size keyword 's'\n",
    "# is not affected by the transform, so we can't just specify the size of a marker in, say, degrees\n",
    "# when we're using the scatter function.\n",
    "\n",
    "ax.scatter(204.2503, -29.866, transform=ax.get_transform('world'),\n",
    "           marker='o',\n",
    "           s=200,\n",
    "           edgecolor='limegreen',\n",
    "           facecolor='none',\n",
    "           linewidth=2.0)"
   ]
  },
  {
   "cell_type": "markdown",
   "metadata": {},
   "source": [
    "## Further Reading\n",
    "- Fits I/O: https://docs.astropy.org/en/stable/io/fits/index.html\n",
    "- Pyplot imshow: https://matplotlib.org/stable/api/_as_gen/matplotlib.pyplot.imshow.html\n",
    "- Image normalization: https://docs.astropy.org/en/stable/visualization/normalization.html\n",
    "- WCS Axes: https://docs.astropy.org/en/stable/visualization/wcsaxes/index.html\n",
    "- All the ways to make WCS axes: https://docs.astropy.org/en/stable/visualization/wcsaxes/initializing_axes.html\n",
    "- Plotting other stuff on WCS axes: https://docs.astropy.org/en/stable/visualization/wcsaxes/overlays.html"
   ]
  },
  {
   "cell_type": "code",
   "execution_count": null,
   "metadata": {},
   "outputs": [],
   "source": []
  }
 ],
 "metadata": {
  "kernelspec": {
   "display_name": "Python 3",
   "language": "python",
   "name": "python3"
  },
  "language_info": {
   "codemirror_mode": {
    "name": "ipython",
    "version": 3
   },
   "file_extension": ".py",
   "mimetype": "text/x-python",
   "name": "python",
   "nbconvert_exporter": "python",
   "pygments_lexer": "ipython3",
   "version": "3.6.9"
  },
  "toc": {
   "base_numbering": 1,
   "nav_menu": {},
   "number_sections": true,
   "sideBar": true,
   "skip_h1_title": false,
   "title_cell": "Table of Contents",
   "title_sidebar": "Contents",
   "toc_cell": false,
   "toc_position": {},
   "toc_section_display": true,
   "toc_window_display": false
  }
 },
 "nbformat": 4,
 "nbformat_minor": 2
}
