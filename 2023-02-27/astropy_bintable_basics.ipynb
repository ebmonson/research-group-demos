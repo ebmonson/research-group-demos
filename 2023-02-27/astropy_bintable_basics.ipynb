{
 "cells": [
  {
   "cell_type": "markdown",
   "metadata": {},
   "source": [
    "#  Binary Table Basics with Astropy\n",
    "If you're not familiar, this is a Jupyter Notebook, a sort of Python-powered interactive document. Jupyter notebooks are made up of cells which can contain Python code or Markdown (like this cell). The cells can each be executed individually."
   ]
  },
  {
   "cell_type": "code",
   "execution_count": 43,
   "metadata": {},
   "outputs": [],
   "source": [
    "# Imports\n",
    "import numpy as np\n",
    "\n",
    "# Astropy\n",
    "from astropy.io import fits\n",
    "from astropy.table import Column, Table\n",
    "\n",
    "# Pandas (for DataFrames)\n",
    "import pandas as pd\n",
    "\n",
    "# Plotting\n",
    "import matplotlib.pyplot as plt\n",
    "\n",
    "# Magically make plots appear in the notebook\n",
    "%matplotlib inline\n",
    "\n",
    "# Change this to point to the directory containing the M83 data products\n",
    "# for today's examples, if you didn't download and unzip them in this directory.\n",
    "data_path = 'M83/'"
   ]
  },
  {
   "cell_type": "markdown",
   "metadata": {},
   "source": [
    "## Binary Table I/O\n",
    "Catalogs and X-ray data products are often distributed as binary (i.e., not human readable) tables. Commonly we use the `.fits` format for this. We have a couple ways of loading these files in a Python script. This is nowhere near an exhaustive tutorial, just some notes to give you an idea of how we use these things."
   ]
  },
  {
   "cell_type": "markdown",
   "metadata": {},
   "source": [
    "### Low-level interface: `astropy.io.fits`\n",
    "This is the basic Astropy interface for `.fits` files, including images, as we'll see below."
   ]
  },
  {
   "cell_type": "code",
   "execution_count": 7,
   "metadata": {},
   "outputs": [],
   "source": [
    "hdul = fits.open(data_path + 'M83-final-sample.fits')"
   ]
  },
  {
   "cell_type": "markdown",
   "metadata": {},
   "source": [
    "Fits files are organized as a series of headers, each of which can have\n",
    "a binary dataset attached. By default fits.open returns a list of all of these\n",
    "header+data units (HDUs), which it calls an HDUList."
   ]
  },
  {
   "cell_type": "code",
   "execution_count": 9,
   "metadata": {},
   "outputs": [
    {
     "data": {
      "text/plain": [
       "[<astropy.io.fits.hdu.image.PrimaryHDU object at 0x7ff25208a400>, <astropy.io.fits.hdu.table.BinTableHDU object at 0x7ff252096908>]"
      ]
     },
     "execution_count": 9,
     "metadata": {},
     "output_type": "execute_result"
    }
   ],
   "source": [
    "hdul"
   ]
  },
  {
   "cell_type": "markdown",
   "metadata": {},
   "source": [
    "We can see that this list for this binary table file has two elements: a `PrimaryHDU` object (which is typically but not always empty), and a `BinTableHDU` which contains the header and data for the catalog. \n",
    "\n",
    "Each of these HDU objects has a `header` and a `data` property. First we'll confirm there's nothing in the first HDU:"
   ]
  },
  {
   "cell_type": "code",
   "execution_count": 16,
   "metadata": {},
   "outputs": [
    {
     "data": {
      "text/plain": [
       "SIMPLE  =                    T /Dummy Created by MWRFITS v1.13                  \n",
       "BITPIX  =                    8 /Dummy primary header created by MWRFITS         \n",
       "NAXIS   =                    0 /No data is associated with this header          \n",
       "EXTEND  =                    T /Extensions may (will!) be present               "
      ]
     },
     "execution_count": 16,
     "metadata": {},
     "output_type": "execute_result"
    }
   ],
   "source": [
    "hdul[0].header"
   ]
  },
  {
   "cell_type": "code",
   "execution_count": 18,
   "metadata": {},
   "outputs": [
    {
     "name": "stdout",
     "output_type": "stream",
     "text": [
      "None\n"
     ]
    }
   ],
   "source": [
    "print(hdul[0].data)"
   ]
  },
  {
   "cell_type": "markdown",
   "metadata": {},
   "source": [
    "In the second, the header contains the description of the table, including how many rows it has and what all the columns are named. The amount of information you get here depends on where you got the table; it can sometimes include information on the units of the columns, though this is not mandatory."
   ]
  },
  {
   "cell_type": "code",
   "execution_count": 21,
   "metadata": {},
   "outputs": [
    {
     "data": {
      "text/plain": [
       "XTENSION= 'BINTABLE'           /Binary table written by MWRFITS v1.13           \n",
       "BITPIX  =                    8 /Required value                                  \n",
       "NAXIS   =                    2 /Required value                                  \n",
       "NAXIS1  =                  754 /Number of bytes per row                         \n",
       "NAXIS2  =                  528 /Number of rows                                  \n",
       "PCOUNT  =                    0 /Normally 0 (no varying arrays)                  \n",
       "GCOUNT  =                    1 /Required value                                  \n",
       "TFIELDS =                   70 /Number of columns in table                      \n",
       "COMMENT                                                                         \n",
       "COMMENT  *** End of mandatory fields ***                                        \n",
       "COMMENT                                                                         \n",
       "COMMENT                                                                         \n",
       "COMMENT  *** Column names ***                                                   \n",
       "COMMENT                                                                         \n",
       "TTYPE1  = 'NAME    '           /                                                \n",
       "TTYPE2  = 'ID      '           /                                                \n",
       "TTYPE3  = 'RA      '           /                                                \n",
       "TTYPE4  = 'DEC     '           /                                                \n",
       "TTYPE5  = 'DL      '           /                                                \n",
       "TTYPE6  = 'PSF_FRAC'           /                                                \n",
       "TTYPE7  = 'OFF_AXIS'           /                                                \n",
       "TTYPE8  = 'NET_CNTS'           /                                                \n",
       "TTYPE9  = 'NET_CNTS_ERR'       /                                                \n",
       "TTYPE10 = 'EXPOSURE'           /                                                \n",
       "TTYPE11 = 'CSTAT   '           /                                                \n",
       "TTYPE12 = 'DOF     '           /                                                \n",
       "TTYPE13 = 'NH_GAL  '           /                                                \n",
       "TTYPE14 = 'NH      '           /                                                \n",
       "TTYPE15 = 'NH_ERR  '           /                                                \n",
       "TTYPE16 = 'GAMMA   '           /                                                \n",
       "TTYPE17 = 'GAMMA_ERR'          /                                                \n",
       "TTYPE18 = 'FH2     '           /                                                \n",
       "TTYPE19 = 'F28     '           /                                                \n",
       "TTYPE20 = 'FH8     '           /                                                \n",
       "TTYPE21 = 'LH2     '           /                                                \n",
       "TTYPE22 = 'LH8     '           /                                                \n",
       "TTYPE23 = 'L210    '           /                                                \n",
       "TTYPE24 = 'DET_FLAG'           /                                                \n",
       "TTYPE25 = 'PHOT_FLAG'          /                                                \n",
       "TTYPE26 = 'RA_GAL_CENT'        /                                                \n",
       "TTYPE27 = 'DEC_GAL_CENT'       /                                                \n",
       "TTYPE28 = 'AA      '           /                                                \n",
       "TTYPE29 = 'BB      '           /                                                \n",
       "TTYPE30 = 'PA      '           /                                                \n",
       "TTYPE31 = 'GAL_FLG '           /                                                \n",
       "TTYPE32 = 'AE_THETA'           /                                                \n",
       "TTYPE33 = 'AE_NUM_OBS'         /                                                \n",
       "TTYPE34 = 'AE_PSF_FRAC'        /                                                \n",
       "TTYPE35 = 'AE_PROB_NO_SOURCE'  /                                                \n",
       "TTYPE36 = 'AE_ENERG_LO'        /                                                \n",
       "TTYPE37 = 'AE_ENERG_HI'        /                                                \n",
       "TTYPE38 = 'AE_SRC_CNTS'        /                                                \n",
       "TTYPE39 = 'AE_BKG_CNTS'        /                                                \n",
       "TTYPE40 = 'AE_BACKSCAL'        /                                                \n",
       "TTYPE41 = 'AE_NET_CNTS'        /                                                \n",
       "TTYPE42 = 'AE_NET_CNTS_SIGMA_UP' /                                              \n",
       "TTYPE43 = 'AE_NET_CNTS_SIGMA_LOW' /                                             \n",
       "TTYPE44 = 'AE_FH8  '           /                                                \n",
       "TTYPE45 = 'AE_FH2  '           /                                                \n",
       "TTYPE46 = 'AE_F28  '           /                                                \n",
       "TTYPE47 = 'FLAG    '           /                                                \n",
       "TTYPE48 = 'FLAG1   '           /                                                \n",
       "TTYPE49 = 'FLAG2   '           /                                                \n",
       "TTYPE50 = 'FLAG3   '           /                                                \n",
       "TTYPE51 = 'BANDPASS'           /                                                \n",
       "TTYPE52 = 'SB_RA   '           /                                                \n",
       "TTYPE53 = 'SB_DEC  '           /                                                \n",
       "TTYPE54 = 'HB_RA   '           /                                                \n",
       "TTYPE55 = 'HB_DEC  '           /                                                \n",
       "TTYPE56 = 'FB_RA   '           /                                                \n",
       "TTYPE57 = 'FB_DEC  '           /                                                \n",
       "TTYPE58 = 'SB_PSF  '           /                                                \n",
       "TTYPE59 = 'HB_PSF  '           /                                                \n",
       "TTYPE60 = 'FB_PSF  '           /                                                \n",
       "TTYPE61 = 'SB_CNTS '           /                                                \n",
       "TTYPE62 = 'SB_CNTS_ERR'        /                                                \n",
       "TTYPE63 = 'HB_CNTS '           /                                                \n",
       "TTYPE64 = 'HB_CNTS_ERR'        /                                                \n",
       "TTYPE65 = 'FB_CNTS '           /                                                \n",
       "TTYPE66 = 'FB_CNTS_ERR'        /                                                \n",
       "TTYPE67 = 'SRC_SIG '           /                                                \n",
       "TTYPE68 = 'SB_SRC_SIG'         /                                                \n",
       "TTYPE69 = 'HB_SRC_SIG'         /                                                \n",
       "TTYPE70 = 'FB_SRC_SIG'         /                                                \n",
       "COMMENT                                                                         \n",
       "COMMENT  *** Column formats ***                                                 \n",
       "COMMENT                                                                         \n",
       "TFORM1  = '18A     '           /                                                \n",
       "TFORM2  = 'I       '           /                                                \n",
       "TFORM3  = 'D       '           /                                                \n",
       "TFORM4  = 'D       '           /                                                \n",
       "TFORM5  = 'D       '           /                                                \n",
       "TFORM6  = 'E       '           /                                                \n",
       "TFORM7  = 'E       '           /                                                \n",
       "TFORM8  = '3E      '           /                                                \n",
       "TFORM9  = '3E      '           /                                                \n",
       "TFORM10 = 'E       '           /                                                \n",
       "TFORM11 = 'D       '           /                                                \n",
       "TFORM12 = 'J       '           /                                                \n",
       "TFORM13 = 'D       '           /                                                \n",
       "TFORM14 = 'D       '           /                                                \n",
       "TFORM15 = 'D       '           /                                                \n",
       "TFORM16 = 'E       '           /                                                \n",
       "TFORM17 = 'E       '           /                                                \n",
       "TFORM18 = 'D       '           /                                                \n",
       "TFORM19 = 'D       '           /                                                \n",
       "TFORM20 = 'D       '           /                                                \n",
       "TFORM21 = 'D       '           /                                                \n",
       "TFORM22 = 'D       '           /                                                \n",
       "TFORM23 = 'D       '           /                                                \n",
       "TFORM24 = 'I       '           /                                                \n",
       "TFORM25 = 'I       '           /                                                \n",
       "TFORM26 = 'D       '           /                                                \n",
       "TFORM27 = 'D       '           /                                                \n",
       "TFORM28 = 'E       '           /                                                \n",
       "TFORM29 = 'E       '           /                                                \n",
       "TFORM30 = 'E       '           /                                                \n",
       "TFORM31 = 'I       '           /                                                \n",
       "TFORM32 = 'D       '           /                                                \n",
       "TFORM33 = 'I       '           /                                                \n",
       "TFORM34 = 'E       '           /                                                \n",
       "TFORM35 = '11E     '           /                                                \n",
       "TFORM36 = '11E     '           /                                                \n",
       "TFORM37 = '11E     '           /                                                \n",
       "TFORM38 = '11E     '           /                                                \n",
       "TFORM39 = '11E     '           /                                                \n",
       "TFORM40 = '11E     '           /                                                \n",
       "TFORM41 = '11E     '           /                                                \n",
       "TFORM42 = '11E     '           /                                                \n",
       "TFORM43 = '11E     '           /                                                \n",
       "TFORM44 = 'D       '           /                                                \n",
       "TFORM45 = 'D       '           /                                                \n",
       "TFORM46 = 'D       '           /                                                \n",
       "TFORM47 = '6A      '           /                                                \n",
       "TFORM48 = 'I       '           /                                                \n",
       "TFORM49 = 'I       '           /                                                \n",
       "TFORM50 = 'I       '           /                                                \n",
       "TFORM51 = 'I       '           /                                                \n",
       "TFORM52 = 'D       '           /                                                \n",
       "TFORM53 = 'D       '           /                                                \n",
       "TFORM54 = 'D       '           /                                                \n",
       "TFORM55 = 'D       '           /                                                \n",
       "TFORM56 = 'D       '           /                                                \n",
       "TFORM57 = 'D       '           /                                                \n",
       "TFORM58 = 'E       '           /                                                \n",
       "TFORM59 = 'E       '           /                                                \n",
       "TFORM60 = 'E       '           /                                                \n",
       "TFORM61 = 'E       '           /                                                \n",
       "TFORM62 = 'E       '           /                                                \n",
       "TFORM63 = 'E       '           /                                                \n",
       "TFORM64 = 'E       '           /                                                \n",
       "TFORM65 = 'E       '           /                                                \n",
       "TFORM66 = 'E       '           /                                                \n",
       "TFORM67 = 'E       '           /                                                \n",
       "TFORM68 = 'E       '           /                                                \n",
       "TFORM69 = 'E       '           /                                                \n",
       "TFORM70 = 'E       '           /                                                "
      ]
     },
     "execution_count": 21,
     "metadata": {},
     "output_type": "execute_result"
    }
   ],
   "source": [
    "hdul[1].header"
   ]
  },
  {
   "cell_type": "markdown",
   "metadata": {},
   "source": [
    "When we load tables this way, the data comes in as a structured NumPy array. We can access the columns with an `array['COLNAME']` syntax."
   ]
  },
  {
   "cell_type": "code",
   "execution_count": 28,
   "metadata": {},
   "outputs": [
    {
     "name": "stdout",
     "output_type": "stream",
     "text": [
      "133623.18-295516.7    0.1063   1.402\n",
      "133624.28-295402.1    0.2510   1.663\n",
      "133626.81-295535.9    0.0900   1.786\n",
      "133626.82-295309.2    0.0900   1.817\n",
      "133628.84-295717.8    0.2383   1.478\n",
      "133629.04-295538.9    0.1271   1.684\n",
      "133629.06-295123.4    6.1940   2.020\n",
      "133631.69-295710.0    0.0900   2.011\n",
      "133633.27-295717.9    0.0370   1.700\n",
      "133633.57-300013.5    1.1830   2.458\n"
     ]
    }
   ],
   "source": [
    "M83_catalog = hdul[1].data\n",
    "\n",
    "names = M83_catalog['NAME']\n",
    "NH = M83_catalog['NH']\n",
    "gamma = M83_catalog['GAMMA']\n",
    "\n",
    "# We'll print out the ID, NH, and Gamma of the\n",
    "# first 10 sources in the catalog \n",
    "for s, n, g in zip(names[:10], NH[:10], gamma[:10]):\n",
    "    print('%s    %6.4f   %5.3f' % (s,n,g)) # These are C-style format codes"
   ]
  },
  {
   "cell_type": "markdown",
   "metadata": {},
   "source": [
    "All the data is there, and we can access it and use it as we want. However, it's not necessarily easy to look at. That brings us to:"
   ]
  },
  {
   "cell_type": "markdown",
   "metadata": {},
   "source": [
    "### Higher-level interface: `astropy.table.Table`\n",
    "The Astropy Table class glosses over a few of the above steps for us, and gives us a slightly nicer interface to tables. It also works for ascii tables. With the table interface we need only do"
   ]
  },
  {
   "cell_type": "code",
   "execution_count": 29,
   "metadata": {},
   "outputs": [],
   "source": [
    "M83_table = Table.read(data_path + 'M83-final-sample.fits')"
   ]
  },
  {
   "cell_type": "markdown",
   "metadata": {},
   "source": [
    "The Table class assumes that the table is in the second HDU, so we can skip all the HDUList stuff. Note that you can, however, specify a specific HDU with the `hdu` keyword argument to `Table.read()`. This method doesn't get us the original FITS header, but the Table object we get back from `Table.read()` contains some of the information."
   ]
  },
  {
   "cell_type": "code",
   "execution_count": 35,
   "metadata": {},
   "outputs": [
    {
     "data": {
      "text/plain": [
       "<Table length=528>\n",
       "         name          dtype  shape n_bad\n",
       "--------------------- ------- ----- -----\n",
       "                 NAME bytes18           0\n",
       "                   ID   int16           0\n",
       "                   RA float64           0\n",
       "                  DEC float64           0\n",
       "                   DL float64           0\n",
       "             PSF_FRAC float32           0\n",
       "             OFF_AXIS float32           0\n",
       "             NET_CNTS float32  (3,)     0\n",
       "         NET_CNTS_ERR float32  (3,)     0\n",
       "             EXPOSURE float32           0\n",
       "                CSTAT float64           2\n",
       "                  DOF   int32           0\n",
       "               NH_GAL float64           2\n",
       "                   NH float64           4\n",
       "               NH_ERR float64           4\n",
       "                GAMMA float32           2\n",
       "            GAMMA_ERR float32           2\n",
       "                  FH2 float64           2\n",
       "                  F28 float64           2\n",
       "                  FH8 float64           2\n",
       "                  LH2 float64           2\n",
       "                  LH8 float64           2\n",
       "                 L210 float64           2\n",
       "             DET_FLAG   int16           0\n",
       "            PHOT_FLAG   int16           0\n",
       "          RA_GAL_CENT float64           0\n",
       "         DEC_GAL_CENT float64           0\n",
       "                   AA float32           0\n",
       "                   BB float32           0\n",
       "                   PA float32           0\n",
       "              GAL_FLG   int16           0\n",
       "             AE_THETA float64           0\n",
       "           AE_NUM_OBS   int16           0\n",
       "          AE_PSF_FRAC float32           0\n",
       "    AE_PROB_NO_SOURCE float32 (11,)     0\n",
       "          AE_ENERG_LO float32 (11,)     0\n",
       "          AE_ENERG_HI float32 (11,)     0\n",
       "          AE_SRC_CNTS float32 (11,)     0\n",
       "          AE_BKG_CNTS float32 (11,)     0\n",
       "          AE_BACKSCAL float32 (11,)     0\n",
       "          AE_NET_CNTS float32 (11,)     0\n",
       " AE_NET_CNTS_SIGMA_UP float32 (11,)     0\n",
       "AE_NET_CNTS_SIGMA_LOW float32 (11,)    84\n",
       "               AE_FH8 float64           2\n",
       "               AE_FH2 float64           2\n",
       "               AE_F28 float64           2\n",
       "                 FLAG  bytes6           0\n",
       "                FLAG1   int16           0\n",
       "                FLAG2   int16           0\n",
       "                FLAG3   int16           0\n",
       "             BANDPASS   int16           0\n",
       "                SB_RA float64           0\n",
       "               SB_DEC float64           0\n",
       "                HB_RA float64           0\n",
       "               HB_DEC float64           0\n",
       "                FB_RA float64           0\n",
       "               FB_DEC float64           0\n",
       "               SB_PSF float32           0\n",
       "               HB_PSF float32           0\n",
       "               FB_PSF float32           0\n",
       "              SB_CNTS float32           0\n",
       "          SB_CNTS_ERR float32           0\n",
       "              HB_CNTS float32           0\n",
       "          HB_CNTS_ERR float32           0\n",
       "              FB_CNTS float32           0\n",
       "          FB_CNTS_ERR float32           0\n",
       "              SRC_SIG float32           0\n",
       "           SB_SRC_SIG float32           0\n",
       "           HB_SRC_SIG float32           0\n",
       "           FB_SRC_SIG float32           0"
      ]
     },
     "execution_count": 35,
     "metadata": {},
     "output_type": "execute_result"
    }
   ],
   "source": [
    "M83_table.info"
   ]
  },
  {
   "cell_type": "markdown",
   "metadata": {},
   "source": [
    "From the 'shape' column in the above, it's somewhat easier (compared to the raw FITS header) to see that some of our columns are actually vector-valued. The `NET_CNTS` columns have 3 values for every row, and most of the columns from ACISExtract (`AE_*`) have 11.\n",
    "\n",
    "The `Table` interface gives us a nicer way to access and look at the table, too:"
   ]
  },
  {
   "cell_type": "code",
   "execution_count": 36,
   "metadata": {},
   "outputs": [
    {
     "data": {
      "text/html": [
       "<i>Table length=10</i>\n",
       "<table id=\"table140678756504744\" class=\"table-striped table-bordered table-condensed\">\n",
       "<thead><tr><th>NAME</th><th>NH</th><th>GAMMA</th></tr></thead>\n",
       "<thead><tr><th>bytes18</th><th>float64</th><th>float32</th></tr></thead>\n",
       "<tr><td>133623.18-295516.7</td><td>0.1063</td><td>1.402</td></tr>\n",
       "<tr><td>133624.28-295402.1</td><td>0.251</td><td>1.663</td></tr>\n",
       "<tr><td>133626.81-295535.9</td><td>0.09</td><td>1.786</td></tr>\n",
       "<tr><td>133626.82-295309.2</td><td>0.09</td><td>1.817</td></tr>\n",
       "<tr><td>133628.84-295717.8</td><td>0.2383</td><td>1.478</td></tr>\n",
       "<tr><td>133629.04-295538.9</td><td>0.1271</td><td>1.684</td></tr>\n",
       "<tr><td>133629.06-295123.4</td><td>6.194</td><td>2.02</td></tr>\n",
       "<tr><td>133631.69-295710.0</td><td>0.09</td><td>2.011</td></tr>\n",
       "<tr><td>133633.27-295717.9</td><td>0.037</td><td>1.7</td></tr>\n",
       "<tr><td>133633.57-300013.5</td><td>1.183</td><td>2.458</td></tr>\n",
       "</table>"
      ],
      "text/plain": [
       "<Table length=10>\n",
       "       NAME           NH    GAMMA \n",
       "     bytes18       float64 float32\n",
       "------------------ ------- -------\n",
       "133623.18-295516.7  0.1063   1.402\n",
       "133624.28-295402.1   0.251   1.663\n",
       "133626.81-295535.9    0.09   1.786\n",
       "133626.82-295309.2    0.09   1.817\n",
       "133628.84-295717.8  0.2383   1.478\n",
       "133629.04-295538.9  0.1271   1.684\n",
       "133629.06-295123.4   6.194    2.02\n",
       "133631.69-295710.0    0.09   2.011\n",
       "133633.27-295717.9   0.037     1.7\n",
       "133633.57-300013.5   1.183   2.458"
      ]
     },
     "execution_count": 36,
     "metadata": {},
     "output_type": "execute_result"
    }
   ],
   "source": [
    "M83_table['NAME', 'NH', 'GAMMA'][:10] # the [:10] gives us just the first 10 rows"
   ]
  },
  {
   "cell_type": "markdown",
   "metadata": {},
   "source": [
    "we can give multiple comma-separated column names to get a subset of the columns in the table. Adding columns is also pretty easy:"
   ]
  },
  {
   "cell_type": "code",
   "execution_count": 44,
   "metadata": {},
   "outputs": [],
   "source": [
    "zeros = np.zeros(len(M83_table)) # An array of zeros as long as the table\n",
    "zero_col = Column(data=zeros, name='ZERO') # Copy the array into an astropy.table.Column object\n",
    "M83_table.add_column(zero_col)"
   ]
  },
  {
   "cell_type": "code",
   "execution_count": 45,
   "metadata": {},
   "outputs": [
    {
     "data": {
      "text/plain": [
       "<Table length=528>\n",
       "         name          dtype  shape n_bad\n",
       "--------------------- ------- ----- -----\n",
       "                 NAME bytes18           0\n",
       "                   ID   int16           0\n",
       "                   RA float64           0\n",
       "                  DEC float64           0\n",
       "                   DL float64           0\n",
       "             PSF_FRAC float32           0\n",
       "             OFF_AXIS float32           0\n",
       "             NET_CNTS float32  (3,)     0\n",
       "         NET_CNTS_ERR float32  (3,)     0\n",
       "             EXPOSURE float32           0\n",
       "                CSTAT float64           2\n",
       "                  DOF   int32           0\n",
       "               NH_GAL float64           2\n",
       "                   NH float64           4\n",
       "               NH_ERR float64           4\n",
       "                GAMMA float32           2\n",
       "            GAMMA_ERR float32           2\n",
       "                  FH2 float64           2\n",
       "                  F28 float64           2\n",
       "                  FH8 float64           2\n",
       "                  LH2 float64           2\n",
       "                  LH8 float64           2\n",
       "                 L210 float64           2\n",
       "             DET_FLAG   int16           0\n",
       "            PHOT_FLAG   int16           0\n",
       "          RA_GAL_CENT float64           0\n",
       "         DEC_GAL_CENT float64           0\n",
       "                   AA float32           0\n",
       "                   BB float32           0\n",
       "                   PA float32           0\n",
       "              GAL_FLG   int16           0\n",
       "             AE_THETA float64           0\n",
       "           AE_NUM_OBS   int16           0\n",
       "          AE_PSF_FRAC float32           0\n",
       "    AE_PROB_NO_SOURCE float32 (11,)     0\n",
       "          AE_ENERG_LO float32 (11,)     0\n",
       "          AE_ENERG_HI float32 (11,)     0\n",
       "          AE_SRC_CNTS float32 (11,)     0\n",
       "          AE_BKG_CNTS float32 (11,)     0\n",
       "          AE_BACKSCAL float32 (11,)     0\n",
       "          AE_NET_CNTS float32 (11,)     0\n",
       " AE_NET_CNTS_SIGMA_UP float32 (11,)     0\n",
       "AE_NET_CNTS_SIGMA_LOW float32 (11,)    84\n",
       "               AE_FH8 float64           2\n",
       "               AE_FH2 float64           2\n",
       "               AE_F28 float64           2\n",
       "                 FLAG  bytes6           0\n",
       "                FLAG1   int16           0\n",
       "                FLAG2   int16           0\n",
       "                FLAG3   int16           0\n",
       "             BANDPASS   int16           0\n",
       "                SB_RA float64           0\n",
       "               SB_DEC float64           0\n",
       "                HB_RA float64           0\n",
       "               HB_DEC float64           0\n",
       "                FB_RA float64           0\n",
       "               FB_DEC float64           0\n",
       "               SB_PSF float32           0\n",
       "               HB_PSF float32           0\n",
       "               FB_PSF float32           0\n",
       "              SB_CNTS float32           0\n",
       "          SB_CNTS_ERR float32           0\n",
       "              HB_CNTS float32           0\n",
       "          HB_CNTS_ERR float32           0\n",
       "              FB_CNTS float32           0\n",
       "          FB_CNTS_ERR float32           0\n",
       "              SRC_SIG float32           0\n",
       "           SB_SRC_SIG float32           0\n",
       "           HB_SRC_SIG float32           0\n",
       "           FB_SRC_SIG float32           0\n",
       "                 ZERO float64           0"
      ]
     },
     "execution_count": 45,
     "metadata": {},
     "output_type": "execute_result"
    }
   ],
   "source": [
    "M83_table.info"
   ]
  },
  {
   "cell_type": "code",
   "execution_count": 46,
   "metadata": {},
   "outputs": [
    {
     "data": {
      "text/html": [
       "<i>Table length=10</i>\n",
       "<table id=\"table140678628458112\" class=\"table-striped table-bordered table-condensed\">\n",
       "<thead><tr><th>NAME</th><th>NH</th><th>GAMMA</th><th>ZERO</th></tr></thead>\n",
       "<thead><tr><th>bytes18</th><th>float64</th><th>float32</th><th>float64</th></tr></thead>\n",
       "<tr><td>133623.18-295516.7</td><td>0.1063</td><td>1.402</td><td>0.0</td></tr>\n",
       "<tr><td>133624.28-295402.1</td><td>0.251</td><td>1.663</td><td>0.0</td></tr>\n",
       "<tr><td>133626.81-295535.9</td><td>0.09</td><td>1.786</td><td>0.0</td></tr>\n",
       "<tr><td>133626.82-295309.2</td><td>0.09</td><td>1.817</td><td>0.0</td></tr>\n",
       "<tr><td>133628.84-295717.8</td><td>0.2383</td><td>1.478</td><td>0.0</td></tr>\n",
       "<tr><td>133629.04-295538.9</td><td>0.1271</td><td>1.684</td><td>0.0</td></tr>\n",
       "<tr><td>133629.06-295123.4</td><td>6.194</td><td>2.02</td><td>0.0</td></tr>\n",
       "<tr><td>133631.69-295710.0</td><td>0.09</td><td>2.011</td><td>0.0</td></tr>\n",
       "<tr><td>133633.27-295717.9</td><td>0.037</td><td>1.7</td><td>0.0</td></tr>\n",
       "<tr><td>133633.57-300013.5</td><td>1.183</td><td>2.458</td><td>0.0</td></tr>\n",
       "</table>"
      ],
      "text/plain": [
       "<Table length=10>\n",
       "       NAME           NH    GAMMA    ZERO \n",
       "     bytes18       float64 float32 float64\n",
       "------------------ ------- ------- -------\n",
       "133623.18-295516.7  0.1063   1.402     0.0\n",
       "133624.28-295402.1   0.251   1.663     0.0\n",
       "133626.81-295535.9    0.09   1.786     0.0\n",
       "133626.82-295309.2    0.09   1.817     0.0\n",
       "133628.84-295717.8  0.2383   1.478     0.0\n",
       "133629.04-295538.9  0.1271   1.684     0.0\n",
       "133629.06-295123.4   6.194    2.02     0.0\n",
       "133631.69-295710.0    0.09   2.011     0.0\n",
       "133633.27-295717.9   0.037     1.7     0.0\n",
       "133633.57-300013.5   1.183   2.458     0.0"
      ]
     },
     "execution_count": 46,
     "metadata": {},
     "output_type": "execute_result"
    }
   ],
   "source": [
    "M83_table['NAME', 'NH', 'GAMMA', 'ZERO'][:10] # the [:10] gives us just the first 10 rows"
   ]
  },
  {
   "cell_type": "markdown",
   "metadata": {},
   "source": [
    "If the data we had added were actually useful, we could save the table using\n",
    "```\n",
    "M83_table.write(data_path + 'M83-final-sample_withzeros.fits')\n",
    "```\n",
    "to make a new copy or\n",
    "```\n",
    "M83_table.write(data_path + 'M83-final-sample.fits', overwrite=True)\n",
    "```\n",
    "to overwrite the existing table."
   ]
  },
  {
   "cell_type": "markdown",
   "metadata": {},
   "source": [
    "### Using Table Data and Creating Tables\n",
    "Finally, an example or two to show how you can use binary tables in practice."
   ]
  },
  {
   "cell_type": "markdown",
   "metadata": {},
   "source": [
    "Suppose we want to operate on just a subset of sources with small off-axis angles, $<7.5'$ (completely arbitrarily):"
   ]
  },
  {
   "cell_type": "code",
   "execution_count": 56,
   "metadata": {},
   "outputs": [
    {
     "name": "stdout",
     "output_type": "stream",
     "text": [
      "505\n"
     ]
    }
   ],
   "source": [
    "mask = M83_table['OFF_AXIS'] <= 7.5 # This is a boolean (i.e. True/False, 1/0) array\n",
    "print(np.count_nonzero(mask))"
   ]
  },
  {
   "cell_type": "markdown",
   "metadata": {},
   "source": [
    "Seems like there are 505 of these, out of an original 528. When we index the table by our mask, only the rows where `mask == True` are returned:"
   ]
  },
  {
   "cell_type": "code",
   "execution_count": 57,
   "metadata": {},
   "outputs": [
    {
     "name": "stdout",
     "output_type": "stream",
     "text": [
      "<Table length=505>\n",
      "         name          dtype  shape n_bad\n",
      "--------------------- ------- ----- -----\n",
      "                 NAME bytes18           0\n",
      "                   ID   int16           0\n",
      "                   RA float64           0\n",
      "                  DEC float64           0\n",
      "                   DL float64           0\n",
      "             PSF_FRAC float32           0\n",
      "             OFF_AXIS float32           0\n",
      "             NET_CNTS float32  (3,)     0\n",
      "         NET_CNTS_ERR float32  (3,)     0\n",
      "             EXPOSURE float32           0\n",
      "                CSTAT float64           2\n",
      "                  DOF   int32           0\n",
      "               NH_GAL float64           2\n",
      "                   NH float64           4\n",
      "               NH_ERR float64           4\n",
      "                GAMMA float32           2\n",
      "            GAMMA_ERR float32           2\n",
      "                  FH2 float64           2\n",
      "                  F28 float64           2\n",
      "                  FH8 float64           2\n",
      "                  LH2 float64           2\n",
      "                  LH8 float64           2\n",
      "                 L210 float64           2\n",
      "             DET_FLAG   int16           0\n",
      "            PHOT_FLAG   int16           0\n",
      "          RA_GAL_CENT float64           0\n",
      "         DEC_GAL_CENT float64           0\n",
      "                   AA float32           0\n",
      "                   BB float32           0\n",
      "                   PA float32           0\n",
      "              GAL_FLG   int16           0\n",
      "             AE_THETA float64           0\n",
      "           AE_NUM_OBS   int16           0\n",
      "          AE_PSF_FRAC float32           0\n",
      "    AE_PROB_NO_SOURCE float32 (11,)     0\n",
      "          AE_ENERG_LO float32 (11,)     0\n",
      "          AE_ENERG_HI float32 (11,)     0\n",
      "          AE_SRC_CNTS float32 (11,)     0\n",
      "          AE_BKG_CNTS float32 (11,)     0\n",
      "          AE_BACKSCAL float32 (11,)     0\n",
      "          AE_NET_CNTS float32 (11,)     0\n",
      " AE_NET_CNTS_SIGMA_UP float32 (11,)     0\n",
      "AE_NET_CNTS_SIGMA_LOW float32 (11,)    84\n",
      "               AE_FH8 float64           2\n",
      "               AE_FH2 float64           2\n",
      "               AE_F28 float64           2\n",
      "                 FLAG  bytes6           0\n",
      "                FLAG1   int16           0\n",
      "                FLAG2   int16           0\n",
      "                FLAG3   int16           0\n",
      "             BANDPASS   int16           0\n",
      "                SB_RA float64           0\n",
      "               SB_DEC float64           0\n",
      "                HB_RA float64           0\n",
      "               HB_DEC float64           0\n",
      "                FB_RA float64           0\n",
      "               FB_DEC float64           0\n",
      "               SB_PSF float32           0\n",
      "               HB_PSF float32           0\n",
      "               FB_PSF float32           0\n",
      "              SB_CNTS float32           0\n",
      "          SB_CNTS_ERR float32           0\n",
      "              HB_CNTS float32           0\n",
      "          HB_CNTS_ERR float32           0\n",
      "              FB_CNTS float32           0\n",
      "          FB_CNTS_ERR float32           0\n",
      "              SRC_SIG float32           0\n",
      "           SB_SRC_SIG float32           0\n",
      "           HB_SRC_SIG float32           0\n",
      "           FB_SRC_SIG float32           0\n",
      "                 ZERO float64           0\n",
      "\n"
     ]
    }
   ],
   "source": [
    "M83_subset = M83_table[mask]\n",
    "print(M83_subset.info)"
   ]
  },
  {
   "cell_type": "markdown",
   "metadata": {},
   "source": [
    "But we get all the original columns. From here, you can probably start to see how you might use the same sort of syntax to select only significant detections, or sources with certain power law slopes. You can combine arbitrarily many selections with logical operations to select only certain rows."
   ]
  },
  {
   "cell_type": "markdown",
   "metadata": {},
   "source": [
    "Just to have something to do, suppose we want to calculate some X-ray colors from the net counts for the subset of sources we just selected. There'll be some (many) complaints from Python here as we divide by 0 and take the log of 0, but we'll ignore them."
   ]
  },
  {
   "cell_type": "code",
   "execution_count": 69,
   "metadata": {},
   "outputs": [
    {
     "name": "stderr",
     "output_type": "stream",
     "text": [
      "/Users/Erik/miniconda3/envs/astroconda3/lib/python3.6/site-packages/ipykernel_launcher.py:5: RuntimeWarning: divide by zero encountered in true_divide\n",
      "  \"\"\"\n",
      "/Users/Erik/miniconda3/envs/astroconda3/lib/python3.6/site-packages/ipykernel_launcher.py:5: RuntimeWarning: invalid value encountered in true_divide\n",
      "  \"\"\"\n",
      "/Users/Erik/miniconda3/envs/astroconda3/lib/python3.6/site-packages/ipykernel_launcher.py:5: RuntimeWarning: divide by zero encountered in log10\n",
      "  \"\"\"\n",
      "/Users/Erik/miniconda3/envs/astroconda3/lib/python3.6/site-packages/ipykernel_launcher.py:6: RuntimeWarning: divide by zero encountered in true_divide\n",
      "  \n",
      "/Users/Erik/miniconda3/envs/astroconda3/lib/python3.6/site-packages/ipykernel_launcher.py:6: RuntimeWarning: invalid value encountered in true_divide\n",
      "  \n",
      "/Users/Erik/miniconda3/envs/astroconda3/lib/python3.6/site-packages/ipykernel_launcher.py:6: RuntimeWarning: divide by zero encountered in log10\n",
      "  \n",
      "/Users/Erik/miniconda3/envs/astroconda3/lib/python3.6/site-packages/ipykernel_launcher.py:7: RuntimeWarning: divide by zero encountered in true_divide\n",
      "  import sys\n",
      "/Users/Erik/miniconda3/envs/astroconda3/lib/python3.6/site-packages/ipykernel_launcher.py:7: RuntimeWarning: invalid value encountered in true_divide\n",
      "  import sys\n",
      "/Users/Erik/miniconda3/envs/astroconda3/lib/python3.6/site-packages/ipykernel_launcher.py:7: RuntimeWarning: divide by zero encountered in log10\n",
      "  import sys\n"
     ]
    }
   ],
   "source": [
    "net_S = M83_subset['NET_CNTS'][:,0]\n",
    "net_M = M83_subset['NET_CNTS'][:,1]\n",
    "net_H = M83_subset['NET_CNTS'][:,2]\n",
    "\n",
    "MS = np.log10(net_M / net_S)\n",
    "HM = np.log10(net_H / net_M)\n",
    "HS = np.log10(net_H / net_S)\n",
    "\n",
    "MS[~np.isfinite(MS)] = np.nan\n",
    "HM[~np.isfinite(HM)] = np.nan\n",
    "HS[~np.isfinite(HS)] = np.nan"
   ]
  },
  {
   "cell_type": "markdown",
   "metadata": {},
   "source": [
    "We'll make a new table to hold these colors:"
   ]
  },
  {
   "cell_type": "code",
   "execution_count": 70,
   "metadata": {},
   "outputs": [
    {
     "data": {
      "text/html": [
       "<i>Table length=10</i>\n",
       "<table id=\"table140678740742096\" class=\"table-striped table-bordered table-condensed\">\n",
       "<thead><tr><th>NAME</th><th>logMS</th><th>logHM</th><th>logHS</th></tr></thead>\n",
       "<thead><tr><th>bytes18</th><th>float32</th><th>float32</th><th>float32</th></tr></thead>\n",
       "<tr><td>133634.85-295436.9</td><td>nan</td><td>nan</td><td>nan</td></tr>\n",
       "<tr><td>133636.00-295118.3</td><td>-0.24966022</td><td>-0.10964115</td><td>-0.35930136</td></tr>\n",
       "<tr><td>133636.78-295019.4</td><td>-0.18863736</td><td>-0.2644293</td><td>-0.45306668</td></tr>\n",
       "<tr><td>133637.45-295410.2</td><td>-0.3787546</td><td>0.14362791</td><td>-0.23512669</td></tr>\n",
       "<tr><td>133637.69-295235.8</td><td>-0.15733737</td><td>-0.35991135</td><td>-0.51724875</td></tr>\n",
       "<tr><td>133638.13-295512.9</td><td>-0.27531993</td><td>nan</td><td>nan</td></tr>\n",
       "<tr><td>133638.57-295553.5</td><td>-0.21018037</td><td>-0.20587191</td><td>-0.41605228</td></tr>\n",
       "<tr><td>133640.09-295429.6</td><td>-0.41177157</td><td>0.19890498</td><td>-0.21286656</td></tr>\n",
       "<tr><td>133640.55-295455.2</td><td>-0.60571253</td><td>0.4819845</td><td>-0.12372803</td></tr>\n",
       "<tr><td>133640.72-295253.2</td><td>nan</td><td>nan</td><td>nan</td></tr>\n",
       "</table>"
      ],
      "text/plain": [
       "<Table length=10>\n",
       "       NAME           logMS       logHM       logHS   \n",
       "     bytes18         float32     float32     float32  \n",
       "------------------ ----------- ----------- -----------\n",
       "133634.85-295436.9         nan         nan         nan\n",
       "133636.00-295118.3 -0.24966022 -0.10964115 -0.35930136\n",
       "133636.78-295019.4 -0.18863736  -0.2644293 -0.45306668\n",
       "133637.45-295410.2  -0.3787546  0.14362791 -0.23512669\n",
       "133637.69-295235.8 -0.15733737 -0.35991135 -0.51724875\n",
       "133638.13-295512.9 -0.27531993         nan         nan\n",
       "133638.57-295553.5 -0.21018037 -0.20587191 -0.41605228\n",
       "133640.09-295429.6 -0.41177157  0.19890498 -0.21286656\n",
       "133640.55-295455.2 -0.60571253   0.4819845 -0.12372803\n",
       "133640.72-295253.2         nan         nan         nan"
      ]
     },
     "execution_count": 70,
     "metadata": {},
     "output_type": "execute_result"
    }
   ],
   "source": [
    "M83_subset_colors = Table() # empty table\n",
    "\n",
    "# We can add column just by indexing\n",
    "# the table by the column name we want,\n",
    "# *as long as the column lengths are the same*\n",
    "M83_subset_colors['NAME'] = M83_subset['NAME']\n",
    "M83_subset_colors['logMS'] = MS\n",
    "M83_subset_colors['logHM'] = HM\n",
    "M83_subset_colors['logHS'] = HS\n",
    "\n",
    "\n",
    "M83_subset_colors[:10]"
   ]
  },
  {
   "cell_type": "markdown",
   "metadata": {},
   "source": [
    "Plot the colors from the table:"
   ]
  },
  {
   "cell_type": "code",
   "execution_count": 72,
   "metadata": {},
   "outputs": [
    {
     "data": {
      "text/plain": [
       "Text(0, 0.5, '$\\\\log~(\\\\rm H / M)$')"
      ]
     },
     "execution_count": 72,
     "metadata": {},
     "output_type": "execute_result"
    },
    {
     "data": {
      "image/png": "[encoded data removed]",
      "text/plain": [
       "<Figure size 432x288 with 1 Axes>"
      ]
     },
     "metadata": {
      "needs_background": "light"
     },
     "output_type": "display_data"
    }
   ],
   "source": [
    "fig, ax = plt.subplots()\n",
    "\n",
    "ax.plot(M83_subset_colors['logMS'],\n",
    "        M83_subset_colors['logHM'],\n",
    "        marker='o',\n",
    "        color='k',\n",
    "        markerfacecolor='k',\n",
    "        linestyle='')\n",
    "\n",
    "ax.set_xlabel(r'$\\log~(\\rm M / S)$')\n",
    "ax.set_ylabel(r'$\\log~(\\rm H / M)$')"
   ]
  },
  {
   "cell_type": "markdown",
   "metadata": {},
   "source": [
    "And save the new table:"
   ]
  },
  {
   "cell_type": "code",
   "execution_count": 75,
   "metadata": {},
   "outputs": [],
   "source": [
    "M83_subset_colors.write(data_path + 'M83-subset-colors.fits', overwrite=True)"
   ]
  },
  {
   "cell_type": "markdown",
   "metadata": {},
   "source": [
    "### Further reading\n",
    "- https://docs.astropy.org/en/stable/io/fits/index.html\n",
    "- https://docs.astropy.org/en/stable/table/index.html"
   ]
  },
  {
   "cell_type": "code",
   "execution_count": null,
   "metadata": {},
   "outputs": [],
   "source": []
  }
 ],
 "metadata": {
  "kernelspec": {
   "display_name": "Python 3",
   "language": "python",
   "name": "python3"
  },
  "language_info": {
   "codemirror_mode": {
    "name": "ipython",
    "version": 3
   },
   "file_extension": ".py",
   "mimetype": "text/x-python",
   "name": "python",
   "nbconvert_exporter": "python",
   "pygments_lexer": "ipython3",
   "version": "3.6.9"
  },
  "toc": {
   "base_numbering": 1,
   "nav_menu": {},
   "number_sections": true,
   "sideBar": true,
   "skip_h1_title": false,
   "title_cell": "Table of Contents",
   "title_sidebar": "Contents",
   "toc_cell": false,
   "toc_position": {},
   "toc_section_display": true,
   "toc_window_display": false
  }
 },
 "nbformat": 4,
 "nbformat_minor": 2
}
